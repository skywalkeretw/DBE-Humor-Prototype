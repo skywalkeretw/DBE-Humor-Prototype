{
 "cells": [
  {
   "cell_type": "markdown",
   "metadata": {},
   "source": [
    "## Nur bei neuem Datensatz anwenden! Davor alte Datensätze löschen aus pos/neg Ordnern!"
   ]
  },
  {
   "cell_type": "markdown",
   "metadata": {},
   "source": [
    "Splittet gelabelte CSV-Datei in pos/neg Ordner innerhalb train/test Ordner"
   ]
  },
  {
   "cell_type": "code",
   "execution_count": null,
   "metadata": {},
   "outputs": [],
   "source": [
    "import pandas as pd\n",
    "from sklearn.model_selection import train_test_split\n",
    "import os\n",
    "import shutil\n",
    "\n",
    "# Read in dataset\n",
    "jokes = pd.read_csv('dataset.csv')\n",
    "\n",
    "# Use mask to split list into funny and not_funny\n",
    "mask = jokes['humor'] == True\n",
    "funny, not_funny = jokes[mask], jokes[~mask]\n",
    "\n",
    "# Split funny and not_funny into train and test set\n",
    "data = {'train': {'pos': [],'neg': [],},'test': {'pos': [],'neg': [],}}\n",
    "data['train']['pos'], data['test']['pos'] = train_test_split(funny, test_size=0.2)\n",
    "data['train']['neg'], data['test']['neg'] = train_test_split(not_funny, test_size=0.2)\n",
    "\n",
    "# Create Folder structure and save files into it \n",
    "# Code fails if folders already exist\n",
    "data_dir = ['test', 'train']\n",
    "split_dir = ['pos', 'neg']\n",
    "for d in data_dir:\n",
    "    try:\n",
    "        os.mkdir(d)\n",
    "    except FileExistsError:\n",
    "        pass\n",
    "\n",
    "    \n",
    "    for sd in split_dir:\n",
    "        new_dir = os.path.join(d, sd)\n",
    "        try:\n",
    "            os.mkdir(new_dir)\n",
    "        except FileExistsError:\n",
    "            shutil.rmtree(new_dir)\n",
    "            os.mkdir(new_dir)\n",
    "            pass\n",
    "        \n",
    "        reindexed = data[d][sd].reset_index(drop=True)\n",
    "        for idx, row in reindexed.iterrows():\n",
    "            filename = os.path.join(new_dir, str(idx)+\".txt\")\n",
    "            with open(filename, \"w\") as file:\n",
    "                file.write(row.text)"
   ]
  }
 ],
 "metadata": {
  "kernelspec": {
   "display_name": "Python 3",
   "language": "python",
   "name": "python3"
  },
  "language_info": {
   "codemirror_mode": {
    "name": "ipython",
    "version": 3
   },
   "file_extension": ".py",
   "mimetype": "text/x-python",
   "name": "python",
   "nbconvert_exporter": "python",
   "pygments_lexer": "ipython3",
   "version": "3.8.10"
  }
 },
 "nbformat": 4,
 "nbformat_minor": 5
}
