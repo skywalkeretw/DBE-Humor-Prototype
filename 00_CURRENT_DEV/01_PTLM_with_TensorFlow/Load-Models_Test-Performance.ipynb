{
 "cells": [
  {
   "cell_type": "code",
   "execution_count": 1,
   "metadata": {},
   "outputs": [],
   "source": [
    "import os\n",
    "import shutil\n",
    "\n",
    "import tensorflow as tf\n",
    "import tensorflow_hub as hub\n",
    "import tensorflow_text as text\n",
    "from official.nlp import optimization  # to create AdamW optimizer\n",
    "\n",
    "import matplotlib.pyplot as plt\n",
    "\n",
    "tf.get_logger().setLevel('ERROR')"
   ]
  },
  {
   "cell_type": "code",
   "execution_count": 62,
   "metadata": {},
   "outputs": [
    {
     "name": "stdout",
     "output_type": "stream",
     "text": [
      "Available models\n",
      "['model_albert_en_base_20221121-143742', 'model_small_bert_bert_en_uncased_L-2_H-128_A-2_20221121-091025', 'model_small_bert_bert_en_uncased_L-2_H-128_A-2_20221121-135444', 'model_small_bert_bert_en_uncased_L-4_H-512_A-8_20221120-232512']\n"
     ]
    }
   ],
   "source": [
    "print(\"Available models\")\n",
    "directories_in_curdir = sorted(list(filter(os.path.isdir, os.listdir(os.curdir))))\n",
    "available_models = [i for i in directories_in_curdir if i.startswith('model_')]\n",
    "print(available_models)"
   ]
  },
  {
   "cell_type": "code",
   "execution_count": 63,
   "id": "5f06426e",
   "metadata": {},
   "outputs": [],
   "source": [
    "reloaded_model = tf.saved_model.load(\"model_albert_en_base_20221121-143742\")"
   ]
  },
  {
   "cell_type": "code",
   "execution_count": 64,
   "metadata": {
    "scrolled": true
   },
   "outputs": [
    {
     "name": "stdout",
     "output_type": "stream",
     "text": [
      "My wife told me to stop impersonating a flamingo. I had to put my foot down.\n",
      " FUNNY SCORE: 0.994432\n",
      "\n",
      "I went to buy some camo pants but couldn’t find any.\n",
      " FUNNY SCORE: 0.993870\n",
      "\n",
      "I failed math so many times at school, I can’t even count.\n",
      " FUNNY SCORE: 0.978977\n",
      "\n",
      "Did you know that the boomerang is Australias biggest export? Its also their biggest import.\n",
      " FUNNY SCORE: 0.989559\n",
      "\n",
      "Don’t you hate it when someone answers their own questions? I do.\n",
      " FUNNY SCORE: 0.989809\n",
      "\n",
      "Germany is the second most populous country in Europe after Russia.\n",
      " FUNNY SCORE: 0.100006\n",
      "\n",
      "Cost of living calculations are also used to compare the cost of maintaining a certain standard of living in different geographic areas.\n",
      " FUNNY SCORE: 0.714653\n",
      "\n",
      "Along with Hong Kong, South Korea, and Taiwan, Singapore is one of the Four Asian Tigers, and has surpassed its peers in terms of Gross Domestic Product (GDP) per capita.\n",
      " FUNNY SCORE: 0.071859\n",
      "\n",
      "Nowadays Italy is the fifth most visited country in international tourism.\n",
      " FUNNY SCORE: 0.201814\n",
      "\n",
      "This TF Hub model uses the implementation of BERT from the TensorFlow Models repository on GitHub.\n",
      " FUNNY SCORE: 0.492181\n",
      "\n",
      "\n"
     ]
    }
   ],
   "source": [
    "def is_funny(inputs, results):\n",
    "  result_for_printing = \\\n",
    "    [f'{inputs[i]:<30}\\n FUNNY SCORE: {results[i][0]:.6f}\\n'\n",
    "                         for i in range(len(inputs))]\n",
    "  print(*result_for_printing, sep='\\n')\n",
    "  print()\n",
    "\n",
    "\n",
    "examples = [\n",
    "    'My wife told me to stop impersonating a flamingo. I had to put my foot down.',\n",
    "    'I went to buy some camo pants but couldn’t find any.',\n",
    "    'I failed math so many times at school, I can’t even count.',\n",
    "    'Did you know that the boomerang is Australias biggest export? Its also their biggest import.',\n",
    "    'Don’t you hate it when someone answers their own questions? I do.',\n",
    "    'Germany is the second most populous country in Europe after Russia.',\n",
    "    \"Cost of living calculations are also used to compare the cost of maintaining a certain standard of living in different geographic areas.\",\n",
    "    \"Along with Hong Kong, South Korea, and Taiwan, Singapore is one of the Four Asian Tigers, and has surpassed its peers in terms of Gross Domestic Product (GDP) per capita.\",\n",
    "    \"Nowadays Italy is the fifth most visited country in international tourism.\",\n",
    "    \"This TF Hub model uses the implementation of BERT from the TensorFlow Models repository on GitHub.\"\n",
    "]\n",
    "\n",
    "reloaded_results = tf.sigmoid(reloaded_model(tf.constant(examples)))\n",
    "\n",
    "is_funny(examples, reloaded_results)"
   ]
  },
  {
   "cell_type": "code",
   "execution_count": null,
   "metadata": {},
   "outputs": [],
   "source": []
  }
 ],
 "metadata": {
  "kernelspec": {
   "display_name": "Python 3",
   "language": "python",
   "name": "python3"
  },
  "language_info": {
   "codemirror_mode": {
    "name": "ipython",
    "version": 3
   },
   "file_extension": ".py",
   "mimetype": "text/x-python",
   "name": "python",
   "nbconvert_exporter": "python",
   "pygments_lexer": "ipython3",
   "version": "3.8.10"
  }
 },
 "nbformat": 4,
 "nbformat_minor": 5
}
