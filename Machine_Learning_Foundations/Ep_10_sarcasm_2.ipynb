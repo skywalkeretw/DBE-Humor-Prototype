{
 "cells": [
  {
   "cell_type": "code",
   "execution_count": 1,
   "metadata": {},
   "outputs": [],
   "source": [
    "#@title Licensed under the Apache License, Version 2.0 (the \"License\");\n",
    "# you may not use this file except in compliance with the License.\n",
    "# You may obtain a copy of the License at\n",
    "#\n",
    "# https://www.apache.org/licenses/LICENSE-2.0\n",
    "#\n",
    "# Unless required by applicable law or agreed to in writing, software\n",
    "# distributed under the License is distributed on an \"AS IS\" BASIS,\n",
    "# WITHOUT WARRANTIES OR CONDITIONS OF ANY KIND, either express or implied.\n",
    "# See the License for the specific language governing permissions and\n",
    "# limitations under the License."
   ]
  },
  {
   "cell_type": "code",
   "execution_count": 2,
   "metadata": {},
   "outputs": [],
   "source": [
    "# Run this to ensure TensorFlow 2.x is used\n",
    "try:\n",
    "  # %tensorflow_version only exists in Colab.\n",
    "  %tensorflow_version 2.x\n",
    "except Exception:\n",
    "  pass"
   ]
  },
  {
   "cell_type": "code",
   "execution_count": 3,
   "metadata": {},
   "outputs": [],
   "source": [
    "import json\n",
    "import tensorflow as tf\n",
    "\n",
    "from tensorflow.keras.preprocessing.text import Tokenizer\n",
    "from tensorflow.keras.preprocessing.sequence import pad_sequences"
   ]
  },
  {
   "cell_type": "code",
   "execution_count": 4,
   "metadata": {},
   "outputs": [],
   "source": [
    "vocab_size = 10000\n",
    "embedding_dim = 16\n",
    "max_length = 100\n",
    "trunc_type='post'\n",
    "padding_type='post'\n",
    "oov_tok = \"<OOV>\"\n",
    "training_size = 20000"
   ]
  },
  {
   "cell_type": "code",
   "execution_count": 5,
   "metadata": {},
   "outputs": [
    {
     "name": "stdout",
     "output_type": "stream",
     "text": [
      "--2022-11-05 22:18:13--  https://storage.googleapis.com/laurencemoroney-blog.appspot.com/sarcasm.json\n",
      "Resolving storage.googleapis.com (storage.googleapis.com)... 172.217.16.208, 142.250.74.208, 172.217.18.112, ...\n",
      "Connecting to storage.googleapis.com (storage.googleapis.com)|172.217.16.208|:443... connected.\n",
      "HTTP request sent, awaiting response... 200 OK\n",
      "Length: 5643545 (5.4M) [application/json]\n",
      "Saving to: ‘/tmp/sarcasm.json’\n",
      "\n",
      "/tmp/sarcasm.json   100%[===================>]   5.38M  --.-KB/s    in 0.1s    \n",
      "\n",
      "2022-11-05 22:18:13 (38.4 MB/s) - ‘/tmp/sarcasm.json’ saved [5643545/5643545]\n",
      "\n"
     ]
    }
   ],
   "source": [
    "!wget --no-check-certificate \\\n",
    "    https://storage.googleapis.com/laurencemoroney-blog.appspot.com/sarcasm.json \\\n",
    "    -O /tmp/sarcasm.json"
   ]
  },
  {
   "cell_type": "code",
   "execution_count": 6,
   "metadata": {},
   "outputs": [],
   "source": [
    "with open(\"/tmp/sarcasm.json\", 'r') as f:\n",
    "    datastore = json.load(f)\n",
    "\n",
    "sentences = []\n",
    "labels = []\n",
    "\n",
    "for item in datastore:\n",
    "    sentences.append(item['headline'])\n",
    "    labels.append(item['is_sarcastic'])"
   ]
  },
  {
   "cell_type": "code",
   "execution_count": 7,
   "metadata": {},
   "outputs": [],
   "source": [
    "training_sentences = sentences[0:training_size]\n",
    "testing_sentences = sentences[training_size:]\n",
    "training_labels = labels[0:training_size]\n",
    "testing_labels = labels[training_size:]"
   ]
  },
  {
   "cell_type": "code",
   "execution_count": 8,
   "metadata": {},
   "outputs": [],
   "source": [
    "tokenizer = Tokenizer(num_words=vocab_size, oov_token=oov_tok)\n",
    "tokenizer.fit_on_texts(training_sentences)\n",
    "\n",
    "word_index = tokenizer.word_index\n",
    "\n",
    "training_sequences = tokenizer.texts_to_sequences(training_sentences)\n",
    "training_padded = pad_sequences(training_sequences, maxlen=max_length, padding=padding_type, truncating=trunc_type)\n",
    "\n",
    "testing_sequences = tokenizer.texts_to_sequences(testing_sentences)\n",
    "testing_padded = pad_sequences(testing_sequences, maxlen=max_length, padding=padding_type, truncating=trunc_type)"
   ]
  },
  {
   "cell_type": "code",
   "execution_count": 9,
   "metadata": {},
   "outputs": [],
   "source": [
    "# Need this block to get it to work with TensorFlow 2.x\n",
    "import numpy as np\n",
    "training_padded = np.array(training_padded)\n",
    "training_labels = np.array(training_labels)\n",
    "testing_padded = np.array(testing_padded)\n",
    "testing_labels = np.array(testing_labels)"
   ]
  },
  {
   "cell_type": "code",
   "execution_count": 10,
   "metadata": {},
   "outputs": [],
   "source": [
    "model = tf.keras.Sequential([\n",
    "    tf.keras.layers.Embedding(vocab_size, embedding_dim, input_length=max_length),\n",
    "    tf.keras.layers.GlobalAveragePooling1D(),\n",
    "    tf.keras.layers.Dense(24, activation='relu'),\n",
    "    tf.keras.layers.Dense(1, activation='sigmoid')\n",
    "])\n",
    "model.compile(loss='binary_crossentropy',optimizer='adam',metrics=['accuracy'])"
   ]
  },
  {
   "cell_type": "code",
   "execution_count": 11,
   "metadata": {},
   "outputs": [
    {
     "name": "stdout",
     "output_type": "stream",
     "text": [
      "Model: \"sequential\"\n",
      "_________________________________________________________________\n",
      " Layer (type)                Output Shape              Param #   \n",
      "=================================================================\n",
      " embedding (Embedding)       (None, 100, 16)           160000    \n",
      "                                                                 \n",
      " global_average_pooling1d (G  (None, 16)               0         \n",
      " lobalAveragePooling1D)                                          \n",
      "                                                                 \n",
      " dense (Dense)               (None, 24)                408       \n",
      "                                                                 \n",
      " dense_1 (Dense)             (None, 1)                 25        \n",
      "                                                                 \n",
      "=================================================================\n",
      "Total params: 160,433\n",
      "Trainable params: 160,433\n",
      "Non-trainable params: 0\n",
      "_________________________________________________________________\n"
     ]
    }
   ],
   "source": [
    "model.summary()"
   ]
  },
  {
   "cell_type": "code",
   "execution_count": 12,
   "metadata": {},
   "outputs": [
    {
     "name": "stdout",
     "output_type": "stream",
     "text": [
      "Epoch 1/30\n",
      "625/625 - 4s - loss: 0.6690 - accuracy: 0.5658 - val_loss: 0.6145 - val_accuracy: 0.7271 - 4s/epoch - 7ms/step\n",
      "Epoch 2/30\n",
      "625/625 - 2s - loss: 0.4638 - accuracy: 0.8107 - val_loss: 0.3973 - val_accuracy: 0.8410 - 2s/epoch - 4ms/step\n",
      "Epoch 3/30\n",
      "625/625 - 2s - loss: 0.3232 - accuracy: 0.8717 - val_loss: 0.3845 - val_accuracy: 0.8247 - 2s/epoch - 4ms/step\n",
      "Epoch 4/30\n",
      "625/625 - 2s - loss: 0.2681 - accuracy: 0.8963 - val_loss: 0.3823 - val_accuracy: 0.8292 - 2s/epoch - 4ms/step\n",
      "Epoch 5/30\n",
      "625/625 - 2s - loss: 0.2325 - accuracy: 0.9105 - val_loss: 0.3597 - val_accuracy: 0.8414 - 2s/epoch - 4ms/step\n",
      "Epoch 6/30\n",
      "625/625 - 2s - loss: 0.2057 - accuracy: 0.9214 - val_loss: 0.3826 - val_accuracy: 0.8359 - 2s/epoch - 4ms/step\n",
      "Epoch 7/30\n",
      "625/625 - 2s - loss: 0.1835 - accuracy: 0.9315 - val_loss: 0.3566 - val_accuracy: 0.8532 - 2s/epoch - 4ms/step\n",
      "Epoch 8/30\n",
      "625/625 - 2s - loss: 0.1637 - accuracy: 0.9390 - val_loss: 0.3750 - val_accuracy: 0.8499 - 2s/epoch - 4ms/step\n",
      "Epoch 9/30\n",
      "625/625 - 2s - loss: 0.1481 - accuracy: 0.9478 - val_loss: 0.3834 - val_accuracy: 0.8539 - 2s/epoch - 4ms/step\n",
      "Epoch 10/30\n",
      "625/625 - 2s - loss: 0.1347 - accuracy: 0.9502 - val_loss: 0.4110 - val_accuracy: 0.8469 - 2s/epoch - 4ms/step\n",
      "Epoch 11/30\n",
      "625/625 - 2s - loss: 0.1240 - accuracy: 0.9563 - val_loss: 0.4354 - val_accuracy: 0.8429 - 2s/epoch - 4ms/step\n",
      "Epoch 12/30\n",
      "625/625 - 2s - loss: 0.1125 - accuracy: 0.9602 - val_loss: 0.4446 - val_accuracy: 0.8469 - 2s/epoch - 4ms/step\n",
      "Epoch 13/30\n",
      "625/625 - 2s - loss: 0.1046 - accuracy: 0.9636 - val_loss: 0.4632 - val_accuracy: 0.8480 - 2s/epoch - 4ms/step\n",
      "Epoch 14/30\n",
      "625/625 - 2s - loss: 0.0945 - accuracy: 0.9690 - val_loss: 0.4912 - val_accuracy: 0.8429 - 2s/epoch - 4ms/step\n",
      "Epoch 15/30\n",
      "625/625 - 2s - loss: 0.0881 - accuracy: 0.9720 - val_loss: 0.5153 - val_accuracy: 0.8417 - 2s/epoch - 4ms/step\n",
      "Epoch 16/30\n",
      "625/625 - 2s - loss: 0.0803 - accuracy: 0.9730 - val_loss: 0.5487 - val_accuracy: 0.8353 - 2s/epoch - 4ms/step\n",
      "Epoch 17/30\n",
      "625/625 - 2s - loss: 0.0740 - accuracy: 0.9761 - val_loss: 0.5864 - val_accuracy: 0.8347 - 2s/epoch - 4ms/step\n",
      "Epoch 18/30\n",
      "625/625 - 2s - loss: 0.0701 - accuracy: 0.9773 - val_loss: 0.6064 - val_accuracy: 0.8296 - 2s/epoch - 4ms/step\n",
      "Epoch 19/30\n",
      "625/625 - 2s - loss: 0.0632 - accuracy: 0.9804 - val_loss: 0.6350 - val_accuracy: 0.8308 - 2s/epoch - 4ms/step\n",
      "Epoch 20/30\n",
      "625/625 - 2s - loss: 0.0578 - accuracy: 0.9817 - val_loss: 0.6722 - val_accuracy: 0.8295 - 2s/epoch - 4ms/step\n",
      "Epoch 21/30\n",
      "625/625 - 3s - loss: 0.0540 - accuracy: 0.9836 - val_loss: 0.7076 - val_accuracy: 0.8284 - 3s/epoch - 4ms/step\n",
      "Epoch 22/30\n",
      "625/625 - 3s - loss: 0.0514 - accuracy: 0.9839 - val_loss: 0.7307 - val_accuracy: 0.8274 - 3s/epoch - 4ms/step\n",
      "Epoch 23/30\n",
      "625/625 - 2s - loss: 0.0464 - accuracy: 0.9855 - val_loss: 0.7857 - val_accuracy: 0.8213 - 2s/epoch - 4ms/step\n",
      "Epoch 24/30\n",
      "625/625 - 2s - loss: 0.0430 - accuracy: 0.9870 - val_loss: 0.8075 - val_accuracy: 0.8208 - 2s/epoch - 4ms/step\n",
      "Epoch 25/30\n",
      "625/625 - 3s - loss: 0.0393 - accuracy: 0.9889 - val_loss: 0.8296 - val_accuracy: 0.8186 - 3s/epoch - 4ms/step\n",
      "Epoch 26/30\n",
      "625/625 - 2s - loss: 0.0359 - accuracy: 0.9902 - val_loss: 0.8998 - val_accuracy: 0.8196 - 2s/epoch - 4ms/step\n",
      "Epoch 27/30\n",
      "625/625 - 2s - loss: 0.0334 - accuracy: 0.9910 - val_loss: 0.9031 - val_accuracy: 0.8180 - 2s/epoch - 4ms/step\n",
      "Epoch 28/30\n",
      "625/625 - 2s - loss: 0.0309 - accuracy: 0.9913 - val_loss: 0.9588 - val_accuracy: 0.8176 - 2s/epoch - 4ms/step\n",
      "Epoch 29/30\n",
      "625/625 - 2s - loss: 0.0296 - accuracy: 0.9920 - val_loss: 0.9707 - val_accuracy: 0.8131 - 2s/epoch - 4ms/step\n",
      "Epoch 30/30\n",
      "625/625 - 2s - loss: 0.0263 - accuracy: 0.9935 - val_loss: 1.0128 - val_accuracy: 0.8147 - 2s/epoch - 4ms/step\n"
     ]
    }
   ],
   "source": [
    "num_epochs = 30\n",
    "history = model.fit(training_padded, training_labels, epochs=num_epochs, validation_data=(testing_padded, testing_labels), verbose=2)"
   ]
  },
  {
   "cell_type": "code",
   "execution_count": 13,
   "metadata": {},
   "outputs": [
    {
     "data": {
      "image/png": "[encoded data removed]",
      "text/plain": [
       "<Figure size 640x480 with 1 Axes>"
      ]
     },
     "metadata": {},
     "output_type": "display_data"
    },
    {
     "data": {
      "image/png": "[encoded data removed]",
      "text/plain": [
       "<Figure size 640x480 with 1 Axes>"
      ]
     },
     "metadata": {},
     "output_type": "display_data"
    }
   ],
   "source": [
    "import matplotlib.pyplot as plt\n",
    "\n",
    "\n",
    "def plot_graphs(history, string):\n",
    "  plt.plot(history.history[string])\n",
    "  plt.plot(history.history['val_'+string])\n",
    "  plt.xlabel(\"Epochs\")\n",
    "  plt.ylabel(string)\n",
    "  plt.legend([string, 'val_'+string])\n",
    "  plt.show()\n",
    "  \n",
    "plot_graphs(history, \"accuracy\")\n",
    "plot_graphs(history, \"loss\")"
   ]
  },
  {
   "cell_type": "code",
   "execution_count": 14,
   "metadata": {},
   "outputs": [
    {
     "name": "stdout",
     "output_type": "stream",
     "text": [
      "former <OOV> store clerk sues over secret 'black <OOV> for minority shoppers ? ? ? ? ? ? ? ? ? ? ? ? ? ? ? ? ? ? ? ? ? ? ? ? ? ? ? ? ? ? ? ? ? ? ? ? ? ? ? ? ? ? ? ? ? ? ? ? ? ? ? ? ? ? ? ? ? ? ? ? ? ? ? ? ? ? ? ? ? ? ? ? ? ? ? ? ? ? ? ? ? ? ? ? ? ? ? ?\n",
      "mom starting to fear son's web series closest thing she will have to grandchild\n",
      "1\n"
     ]
    }
   ],
   "source": [
    "reverse_word_index = dict([(value, key) for (key, value) in word_index.items()])\n",
    "\n",
    "def decode_sentence(text):\n",
    "    return ' '.join([reverse_word_index.get(i, '?') for i in text])\n",
    "\n",
    "print(decode_sentence(training_padded[0]))\n",
    "print(training_sentences[2])\n",
    "print(labels[2])"
   ]
  },
  {
   "cell_type": "code",
   "execution_count": 15,
   "metadata": {},
   "outputs": [
    {
     "name": "stdout",
     "output_type": "stream",
     "text": [
      "(10000, 16)\n"
     ]
    }
   ],
   "source": [
    "e = model.layers[0]\n",
    "weights = e.get_weights()[0]\n",
    "print(weights.shape) # shape: (vocab_size, embedding_dim)"
   ]
  },
  {
   "cell_type": "code",
   "execution_count": 16,
   "metadata": {},
   "outputs": [],
   "source": [
    "import io\n",
    "\n",
    "out_v = io.open('vecs.tsv', 'w', encoding='utf-8')\n",
    "out_m = io.open('meta.tsv', 'w', encoding='utf-8')\n",
    "for word_num in range(1, vocab_size):\n",
    "  word = reverse_word_index[word_num]\n",
    "  embeddings = weights[word_num]\n",
    "  out_m.write(word + \"\\n\")\n",
    "  out_v.write('\\t'.join([str(x) for x in embeddings]) + \"\\n\")\n",
    "out_v.close()\n",
    "out_m.close()"
   ]
  },
  {
   "cell_type": "code",
   "execution_count": 17,
   "metadata": {},
   "outputs": [],
   "source": [
    "try:\n",
    "  from google.colab import files\n",
    "except ImportError:\n",
    "  pass\n",
    "else:\n",
    "  files.download('vecs.tsv')\n",
    "  files.download('meta.tsv')"
   ]
  },
  {
   "cell_type": "code",
   "execution_count": 21,
   "metadata": {},
   "outputs": [
    {
     "name": "stdout",
     "output_type": "stream",
     "text": [
      "1/1 [==============================] - 0s 45ms/step\n",
      "[[9.640388e+01]\n",
      " [2.238182e-03]]\n"
     ]
    }
   ],
   "source": [
    "sentence = [\"granny starting to fear spiders in the garden might be real\", \"game of thrones season finale showing this sunday night\"]\n",
    "sequences = tokenizer.texts_to_sequences(sentence)\n",
    "padded = pad_sequences(sequences, maxlen=max_length, padding=padding_type, truncating=trunc_type)\n",
    "print(model.predict(padded)*100)"
   ]
  },
  {
   "cell_type": "code",
   "execution_count": 47,
   "metadata": {},
   "outputs": [],
   "source": [
    "def isSarcastic(prediction, sentence):\n",
    "    if len(prediction) > 1:\n",
    "        for i, v in enumerate(prediction):\n",
    "            if v > 0.5:\n",
    "                print(\"\\n\", sentence[i], \"-> is Sarcastic:\", str(v[0]*100) + \"%\")\n",
    "            else:\n",
    "                print(\"\\n\", sentence[i], \"-> is Serious:\", str(v[0]*100) + \"%\")\n",
    "    else:\n",
    "        if prediction > 0.5:\n",
    "            print(\"\\n\", sentence, \"-> is Sarcastic:\", prediction)\n",
    "        else:\n",
    "            print(\"\\n\", sentence, \"-> is Serious:\", prediction)"
   ]
  },
  {
   "cell_type": "code",
   "execution_count": 48,
   "metadata": {},
   "outputs": [
    {
     "name": "stdout",
     "output_type": "stream",
     "text": [
      "1/1 [==============================] - 0s 46ms/step\n",
      "\n",
      " granny starting to fear spiders in the garden might be real -> is Sarcastic: 96.40387892723083%\n",
      "\n",
      " game of thrones season finale showing this sunday night -> is Serious: 0.0022381818780559115%\n"
     ]
    }
   ],
   "source": [
    "       \n",
    "sentence = [\n",
    "    \"granny starting to fear spiders in the garden might be real\", \n",
    "    \"game of thrones season finale showing this sunday night\"\n",
    "]\n",
    "sequences = tokenizer.texts_to_sequences(sentence)\n",
    "padded = pad_sequences(sequences, maxlen=max_length, padding=padding_type, truncating=trunc_type)\n",
    "isSarcastic(model.predict(padded), sentence)"
   ]
  },
  {
   "cell_type": "code",
   "execution_count": null,
   "metadata": {},
   "outputs": [],
   "source": []
  }
 ],
 "metadata": {
  "kernelspec": {
   "display_name": "Python 3",
   "language": "python",
   "name": "python3"
  },
  "language_info": {
   "codemirror_mode": {
    "name": "ipython",
    "version": 3
   },
   "file_extension": ".py",
   "mimetype": "text/x-python",
   "name": "python",
   "nbconvert_exporter": "python",
   "pygments_lexer": "ipython3",
   "version": "3.8.10"
  },
  "vscode": {
   "interpreter": {
    "hash": "ac2eaa0ea0ebeafcc7822e65e46aa9d4f966f30b695406963e145ea4a91cd4fc"
   }
  }
 },
 "nbformat": 4,
 "nbformat_minor": 2
}
