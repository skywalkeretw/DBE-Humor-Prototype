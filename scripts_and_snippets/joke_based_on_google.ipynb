{
 "cells": [
  {
   "cell_type": "code",
   "execution_count": null,
   "metadata": {},
   "outputs": [],
   "source": [
    "import json\n",
    "import tensorflow as tf\n",
    "import pandas as pd\n",
    "\n",
    "from tensorflow.keras.preprocessing.text import Tokenizer\n",
    "from tensorflow.keras.preprocessing.sequence import pad_sequences"
   ]
  },
  {
   "cell_type": "code",
   "execution_count": null,
   "metadata": {},
   "outputs": [],
   "source": [
    "def isSarcastic(prediction, sentence):\n",
    "    if len(prediction) > 1:\n",
    "        for i, v in enumerate(prediction):\n",
    "            if v > 0.5:\n",
    "                print(\"\\n\", sentence[i], \"-> is Funny:\", str(v[0]*100) + \"%\")\n",
    "            else:\n",
    "                print(\"\\n\", sentence[i], \"-> is Not Funny:\", str(v[0]*100) + \"%\")\n",
    "    else:\n",
    "        if prediction > 0.5:\n",
    "            print(\"\\n\", sentence, \"-> is Funny:\", prediction)\n",
    "        else:\n",
    "            print(\"\\n\", sentence, \"-> is Not Funny:\", prediction)"
   ]
  },
  {
   "cell_type": "code",
   "execution_count": null,
   "metadata": {},
   "outputs": [],
   "source": [
    "DESIRED_ACCURACY = 0.922\n",
    "class myCallback(tf.keras.callbacks.Callback):\n",
    "    def on_epoch_end(self, epoch, logs={}):\n",
    "        if (logs.get('accuracy')>DESIRED_ACCURACY):\n",
    "            print(f\"\\nReached {DESIRED_ACCURACY * 100}% accuracy so cancelling training!\", )\n",
    "            self.model.stop_training = True"
   ]
  },
  {
   "cell_type": "code",
   "execution_count": null,
   "metadata": {},
   "outputs": [],
   "source": [
    "vocab_size = 10000\n",
    "embedding_dim = 16\n",
    "max_length = 100\n",
    "trunc_type='post'\n",
    "padding_type='post'\n",
    "oov_tok = \"<OOV>\"\n",
    "training_size = 20000"
   ]
  },
  {
   "cell_type": "code",
   "execution_count": null,
   "metadata": {},
   "outputs": [],
   "source": [
    "data = pd.read_csv('/dataset-1liner.csv')\n",
    "data_size = len(data)"
   ]
  },
  {
   "cell_type": "code",
   "execution_count": null,
   "metadata": {},
   "outputs": [],
   "source": [
    "data"
   ]
  },
  {
   "cell_type": "code",
   "execution_count": null,
   "metadata": {},
   "outputs": [],
   "source": [
    "sentences = data['text']\n",
    "labels = data['humor']"
   ]
  },
  {
   "cell_type": "code",
   "execution_count": null,
   "metadata": {},
   "outputs": [],
   "source": [
    "training_sentences = sentences[0:training_size]\n",
    "testing_sentences = sentences[training_size:]\n",
    "training_labels = labels[0:training_size]\n",
    "testing_labels = labels[training_size:]"
   ]
  },
  {
   "cell_type": "code",
   "execution_count": null,
   "metadata": {},
   "outputs": [],
   "source": [
    "tokenizer = Tokenizer(num_words=vocab_size, oov_token=oov_tok)\n",
    "tokenizer.fit_on_texts(training_sentences)\n",
    "\n",
    "word_index = tokenizer.word_index\n",
    "\n",
    "training_sequences = tokenizer.texts_to_sequences(training_sentences)\n",
    "training_padded = pad_sequences(training_sequences, maxlen=max_length, padding=padding_type, truncating=trunc_type)\n",
    "\n",
    "testing_sequences = tokenizer.texts_to_sequences(testing_sentences)\n",
    "testing_padded = pad_sequences(testing_sequences, maxlen=max_length, padding=padding_type, truncating=trunc_type)"
   ]
  },
  {
   "cell_type": "code",
   "execution_count": null,
   "metadata": {},
   "outputs": [],
   "source": [
    "# Need this block to get it to work with TensorFlow 2.x\n",
    "import numpy as np\n",
    "training_padded = np.array(training_padded)\n",
    "training_labels = np.array(training_labels)\n",
    "testing_padded = np.array(testing_padded)\n",
    "testing_labels = np.array(testing_labels)"
   ]
  },
  {
   "cell_type": "code",
   "execution_count": null,
   "metadata": {},
   "outputs": [],
   "source": [
    "model = tf.keras.Sequential([\n",
    "    tf.keras.layers.Embedding(vocab_size, embedding_dim, input_length=max_length),\n",
    "    tf.keras.layers.GlobalAveragePooling1D(),\n",
    "    tf.keras.layers.Dense(24, activation='relu'),\n",
    "    tf.keras.layers.Dense(1, activation='sigmoid')\n",
    "])\n",
    "model.compile(loss='binary_crossentropy',optimizer='adam',metrics=['accuracy'])"
   ]
  },
  {
   "cell_type": "code",
   "execution_count": null,
   "metadata": {},
   "outputs": [],
   "source": [
    "model.summary()"
   ]
  },
  {
   "cell_type": "code",
   "execution_count": null,
   "metadata": {},
   "outputs": [],
   "source": [
    "num_epochs = 30\n",
    "callbacks = myCallback()\n",
    "history = model.fit(training_padded, training_labels, epochs=num_epochs, validation_data=(testing_padded, testing_labels), verbose=2, callbacks=[callbacks])"
   ]
  },
  {
   "cell_type": "code",
   "execution_count": null,
   "metadata": {},
   "outputs": [],
   "source": [
    "import matplotlib.pyplot as plt\n",
    "\n",
    "\n",
    "def plot_graphs(history, string):\n",
    "  plt.plot(history.history[string])\n",
    "  plt.plot(history.history['val_'+string])\n",
    "  plt.xlabel(\"Epochs\")\n",
    "  plt.ylabel(string)\n",
    "  plt.legend([string, 'val_'+string])\n",
    "  plt.show()\n",
    "  \n",
    "plot_graphs(history, \"accuracy\")\n",
    "plot_graphs(history, \"loss\")"
   ]
  },
  {
   "cell_type": "code",
   "execution_count": null,
   "metadata": {},
   "outputs": [],
   "source": [
    "sentence = [\n",
    "    \"What is black white and red? a penguin with a sunburn\", \n",
    "    \"I want a beer\",\n",
    "    \"I want thousands of beers\",\n",
    "    \"What’s the best thing about Switzerland? I don’t know, but the flag is a big plus.\",\n",
    "    \"Why was six afraid of seven? Because seven eight nine.\",\n",
    "    \"My IQ test results came back. They were negative.\",\n",
    "    \"What do you call a hippie’s wife? Mississippi.\",\n",
    "    \"Why are so many blonde jokes one-liners? So brunettes can remember them.\",\n",
    "    \"What do you call a bear with no teeth? A gummy bear.\",\n",
    "    \"What do fish say when they hit a concrete wall? Dam!\",\n",
    "    \"training time will vary depending on the complexity of the BERT model you have selected.\",\n",
    "    \"You can plot the training and validation loss for comparison, as well as the training and validation accuracy\",\n",
    "    \"In this plot, the red lines represent the training loss and accuracy, and the blue lines are the validation loss and accuracy\",\n",
    "    \"Yesterday I saw a guy spill all his Scrabble letters on the road. I asked him, “What’s the word on the street?\",\n",
    "    \"Once my dog ate all the Scrabble tiles. For days he kept leaving little messages around the house.\",\n",
    "    \"A woman gets on a bus with her baby. The bus driver says: „That’s the ugliest baby that I’ve ever seen. Ugh!“ The woman goes to the rear of the bus and sits down, fuming. She says to a man next to her: „The driver just insulted me!“ The man says: „You go right up there and tell him off – go ahead, I’ll hold your monkey for you.“\",\n",
    "    \"I always tell new hires, Don’t think of me as your boss, think of me as a friend who can fire you.\",\n",
    "    \"I would kill for a Nobel Peace Prize.\",\n",
    "    \"Amazon has earned a reputation as a disruptor of well-established industries through technological innovation and aggressive reinvestment of profits into capital expenditures.\",\n",
    "    \"The NASDAQ Stock Market eventually assumed the majority of major trades that had been executed by the over-the-counter (OTC) system of trading, but there are still many securities traded in this fashion.\"\n",
    "]\n",
    "sequences = tokenizer.texts_to_sequences(sentence)\n",
    "padded = pad_sequences(sequences, maxlen=max_length, padding=padding_type, truncating=trunc_type)\n",
    "isSarcastic(model.predict(padded), sentence)"
   ]
  }
 ],
 "metadata": {
  "kernelspec": {
   "display_name": "Python 3.10.6 64-bit",
   "language": "python",
   "name": "python3"
  },
  "language_info": {
   "name": "python",
   "version": "3.10.8 (main, Oct 13 2022, 10:17:43) [Clang 14.0.0 (clang-1400.0.29.102)]"
  },
  "orig_nbformat": 4,
  "vscode": {
   "interpreter": {
    "hash": "aee8b7b246df8f9039afb4144a1f6fd8d2ca17a180786b69acc140d282b71a49"
   }
  }
 },
 "nbformat": 4,
 "nbformat_minor": 2
}
